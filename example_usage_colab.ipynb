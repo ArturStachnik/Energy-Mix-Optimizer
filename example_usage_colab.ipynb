{
 "cells": [
  {
   "cell_type": "markdown",
   "id": "eb2a0ee7",
   "metadata": {},
   "source": [
    "# 📓 Example: Using the Energy Mix Optimizer\n",
    "This notebook demonstrates how to forecast renewable generation and optimise the energy mix."
   ]
  },
  {
   "cell_type": "code",
   "execution_count": null,
   "id": "2820cbf9",
   "metadata": {},
   "outputs": [],
   "source": [
    "import pandas as pd\n",
    "import numpy as np\n",
    "import matplotlib.pyplot as plt\n",
    "from src.utils import predict_generation, optimise_mix"
   ]
  },
  {
   "cell_type": "markdown",
   "id": "02f4dee1",
   "metadata": {},
   "source": [
    "## 1. Load dataset"
   ]
  },
  {
   "cell_type": "code",
   "execution_count": null,
   "id": "26b37a13",
   "metadata": {},
   "outputs": [],
   "source": [
    "data = pd.read_csv('data/energy_mix_dataset.csv', parse_dates=['datetime'], index_col='datetime')\n",
    "features = data.drop(columns=['demand', 'solar_pv', 'wind', 'hydro'])\n",
    "y_solar = data['solar_pv']\n",
    "y_wind = data['wind']"
   ]
  },
  {
   "cell_type": "markdown",
   "id": "348d0934",
   "metadata": {},
   "source": [
    "## 2. Define tomorrow's weather & price forecast"
   ]
  },
  {
   "cell_type": "code",
   "execution_count": null,
   "id": "c3b66297",
   "metadata": {},
   "outputs": [],
   "source": [
    "tomorrow = pd.DataFrame([{\n",
    "    \"surface_solar_radiation_downwards\": 240,\n",
    "    \"10m_u_component_of_wind\": 3.0,\n",
    "    \"10m_v_component_of_wind\": 1.0,\n",
    "    \"2m_temperature\": 296,\n",
    "    \"hour\": 13,\n",
    "    \"month\": 6,\n",
    "    \"day_of_week\": 2,\n",
    "    \"is_weekend\": 0,\n",
    "    \"is_holiday\": 0,\n",
    "    \"price\": 70\n",
    "}])"
   ]
  },
  {
   "cell_type": "markdown",
   "id": "d21a001d",
   "metadata": {},
   "source": [
    "## 3. Predict renewable generation"
   ]
  },
  {
   "cell_type": "code",
   "execution_count": null,
   "id": "a02aaada",
   "metadata": {},
   "outputs": [],
   "source": [
    "solar_pred = predict_generation(features, y_solar, tomorrow)\n",
    "wind_pred = predict_generation(features, y_wind, tomorrow)\n",
    "hydro_pred = data['hydro'].mean()\n",
    "print(f'Solar: {solar_pred:.2f} MWh | Wind: {wind_pred:.2f} MWh | Hydro: {hydro_pred:.2f} MWh')"
   ]
  },
  {
   "cell_type": "markdown",
   "id": "ff6f9fc6",
   "metadata": {},
   "source": [
    "## 4. Optimise mix for a given demand"
   ]
  },
  {
   "cell_type": "code",
   "execution_count": null,
   "id": "011220f9",
   "metadata": {},
   "outputs": [],
   "source": [
    "demand = 580\n",
    "mix, total_cost, total_emissions, success = optimise_mix(solar_pred, wind_pred, hydro_pred, demand)\n",
    "if success:\n",
    "    technologies = [\"Solar\", \"Wind\", \"Hydro\", \"Gas\", \"Nuclear\"]\n",
    "    for tech, val in zip(technologies, mix):\n",
    "        print(f'{tech}: {val:.2f} MWh')\n",
    "    print(f'\\nTotal Cost: €{total_cost:.2f}')\n",
    "    print(f'Total Emissions: {total_emissions:.2f} tCO₂')\n",
    "else:\n",
    "    print(\"Optimization failed.\")"
   ]
  },
  {
   "cell_type": "markdown",
   "id": "d6f8d4fe",
   "metadata": {},
   "source": [
    "## 5. Visualise the Optimised Mix"
   ]
  },
  {
   "cell_type": "code",
   "execution_count": null,
   "id": "3439e840",
   "metadata": {},
   "outputs": [],
   "source": [
    "if success:\n",
    "    technologies = [\"Solar\", \"Wind\", \"Hydro\", \"Gas\", \"Nuclear\"]\n",
    "    plt.figure(figsize=(8, 5))\n",
    "    plt.bar(technologies, mix, color='skyblue')\n",
    "    plt.title('Optimised Energy Mix')\n",
    "    plt.ylabel('Dispatch (MWh)')\n",
    "    plt.grid(axis='y', linestyle='--', alpha=0.6)\n",
    "    plt.tight_layout()\n",
    "    plt.show()"
   ]
  }
 ],
 "metadata": {},
 "nbformat": 4,
 "nbformat_minor": 5
}
