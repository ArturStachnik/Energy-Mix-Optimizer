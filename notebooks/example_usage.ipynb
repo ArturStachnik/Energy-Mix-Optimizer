{
 "cells": [
  {
   "cell_type": "markdown",
   "metadata": {},
   "source": [
    "# \ud83d\udccb Example: Using the Energy Mix Optimizer\n",
    "This notebook demonstrates how to use the trained models and optimisation pipeline to forecast renewables and recommend a cost-efficient energy mix."
   ]
  },
  {
   "cell_type": "code",
   "metadata": {},
   "execution_count": null,
   "outputs": [],
   "source": [
    "import pandas as pd\n",
    "import numpy as np\n",
    "from src.utils import predict_generation, optimise_mix"
   ]
  },
  {
   "cell_type": "markdown",
   "metadata": {},
   "source": [
    "## 1. Load dataset"
   ]
  },
  {
   "cell_type": "code",
   "metadata": {},
   "execution_count": null,
   "outputs": [],
   "source": [
    "data = pd.read_csv(\"data/energy_mix_dataset.csv\", parse_dates=[\"datetime\"], index_col=\"datetime\")\n",
    "features = data.drop(columns=[\"demand\", \"solar_pv\", \"wind\", \"hydro\"])\n",
    "y_solar = data[\"solar_pv\"]\n",
    "y_wind = data[\"wind\"]"
   ]
  },
  {
   "cell_type": "markdown",
   "metadata": {},
   "source": [
    "## 2. Define tomorrow's weather & price forecast"
   ]
  },
  {
   "cell_type": "code",
   "metadata": {},
   "execution_count": null,
   "outputs": [],
   "source": [
    "tomorrow = pd.DataFrame([{
      \"surface_solar_radiation_downwards\": 240,
      \"10m_u_component_of_wind\": 3.0,
      \"10m_v_component_of_wind\": 1.0,
      \"2m_temperature\": 296,
      \"hour\": 13,
      \"month\": 6,
      \"day_of_week\": 2,
      \"is_weekend\": 0,
      \"is_holiday\": 0,
      \"price\": 70
    }])"
   ]
  },
  {
   "cell_type": "markdown",
   "metadata": {},
   "source": [
    "## 3. Predict renewable generation"
   ]
  },
  {
   "cell_type": "code",
   "metadata": {},
   "execution_count": null,
   "outputs": [],
   "source": [
    "solar_pred = predict_generation(features, y_solar, tomorrow)\n",
    "wind_pred = predict_generation(features, y_wind, tomorrow)\n",
    "hydro_pred = data[\"hydro\"].mean()  # Approximation\n",
    "print(f'Solar: {solar_pred:.2f} MWh | Wind: {wind_pred:.2f} MWh | Hydro: {hydro_pred:.2f} MWh')"
   ]
  },
  {
   "cell_type": "markdown",
   "metadata": {},
   "source": [
    "## 4. Optimise mix for a given demand"
   ]
  },
  {
   "cell_type": "code",
   "metadata": {},
   "execution_count": null,
   "outputs": [],
   "source": [
    "demand = 580\n",
    "mix, total_cost, total_emissions, success = optimise_mix(solar_pred, wind_pred, hydro_pred, demand)\n",
    "if success:\n",
    "    technologies = [\"Solar\", \"Wind\", \"Hydro\", \"Gas\", \"Nuclear\"]\n",
    "    for tech, val in zip(technologies, mix):\n",
    "        print(f'{tech}: {val:.2f} MWh')\n",
    "    print(f'\\nTotal Cost: €{total_cost:.2f}')\n",
    "    print(f'Total Emissions: {total_emissions:.2f} tCO₂')\n",
    "else:\n",
    "    print(\"Optimization failed.\")"
   ]
  },
  {
   "cell_type": "markdown",
   "metadata": {},
   "source": [
    "## 5. Visualise the Optimised Mix"
   ]
  },
  {
   "cell_type": "code",
   "metadata": {},
   "execution_count": null,
   "outputs": [],
   "source": [
    "import matplotlib.pyplot as plt\n",
    "\n",
    "if success:\n",
    "    plt.figure(figsize=(8, 5))\n",
    "    plt.bar(technologies, mix, color='skyblue')\n",
    "    plt.title('Optimised Energy Mix')\n",
    "    plt.ylabel('Dispatch (MWh)')\n",
    "    plt.grid(axis='y', linestyle='--', alpha=0.6)\n",
    "    plt.tight_layout()\n",
    "    plt.show()"
   ]
  }
 ],
 "metadata": {
  "kernelspec": {
   "display_name": "Python 3",
   "language": "python",
   "name": "python3"
  },
  "language_info": {
   "name": "python",
   "version": "3.10"
  }
 },
 "nbformat": 4,
 "nbformat_minor": 5
}
